{
  "nbformat": 4,
  "nbformat_minor": 0,
  "metadata": {
    "colab": {
      "name": "MenghitungKoefkorelasi_DataPanen_Anreg.ipynb",
      "provenance": [],
      "collapsed_sections": []
    },
    "kernelspec": {
      "name": "python3",
      "display_name": "Python 3"
    },
    "language_info": {
      "name": "python"
    }
  },
  "cells": [
    {
      "cell_type": "markdown",
      "metadata": {
        "id": "siXNqdna3RgI"
      },
      "source": [
        "## Sri Handini/20110019/S1SD-01-A\n",
        "\n",
        "[link GC](https://colab.research.google.com/drive/1acBYEGO0wccWNKSzvAOfrLNzGgodJ6X_?usp=sharing)\n",
        "\n",
        "Data yang digunakan adalah data hasil panen\n",
        "sumber data : BPS Banyumas"
      ]
    },
    {
      "cell_type": "code",
      "metadata": {
        "colab": {
          "base_uri": "https://localhost:8080/"
        },
        "id": "gnCI2ta6xgdT",
        "outputId": "576f775f-2274-4018-f2cd-019093ce49ca"
      },
      "source": [
        "from google.colab import drive\n",
        "drive.mount('/content/drive')"
      ],
      "execution_count": 1,
      "outputs": [
        {
          "output_type": "stream",
          "name": "stdout",
          "text": [
            "Mounted at /content/drive\n"
          ]
        }
      ]
    },
    {
      "cell_type": "code",
      "metadata": {
        "id": "hE5muBarxkln"
      },
      "source": [
        "import numpy as np\n",
        "import matplotlib.pyplot as plt\n",
        "import pandas as pd\n"
      ],
      "execution_count": 2,
      "outputs": []
    },
    {
      "cell_type": "code",
      "metadata": {
        "colab": {
          "base_uri": "https://localhost:8080/",
          "height": 206
        },
        "id": "fqIUyWH0x3x-",
        "outputId": "2cefe8c4-fa39-493e-be5e-0c7a6d44b202"
      },
      "source": [
        "dataset =pd.read_excel(\"/content/drive/My Drive/anreg/data hasil panen.xlsx\")\n",
        "dataset.head(5)"
      ],
      "execution_count": 3,
      "outputs": [
        {
          "output_type": "execute_result",
          "data": {
            "text/html": [
              "<div>\n",
              "<style scoped>\n",
              "    .dataframe tbody tr th:only-of-type {\n",
              "        vertical-align: middle;\n",
              "    }\n",
              "\n",
              "    .dataframe tbody tr th {\n",
              "        vertical-align: top;\n",
              "    }\n",
              "\n",
              "    .dataframe thead th {\n",
              "        text-align: right;\n",
              "    }\n",
              "</style>\n",
              "<table border=\"1\" class=\"dataframe\">\n",
              "  <thead>\n",
              "    <tr style=\"text-align: right;\">\n",
              "      <th></th>\n",
              "      <th>Kecamatan</th>\n",
              "      <th>Luas Panen</th>\n",
              "      <th>Produksi</th>\n",
              "    </tr>\n",
              "  </thead>\n",
              "  <tbody>\n",
              "    <tr>\n",
              "      <th>0</th>\n",
              "      <td>Lumbir</td>\n",
              "      <td>2090</td>\n",
              "      <td>11913</td>\n",
              "    </tr>\n",
              "    <tr>\n",
              "      <th>1</th>\n",
              "      <td>Wangon</td>\n",
              "      <td>3036</td>\n",
              "      <td>17305</td>\n",
              "    </tr>\n",
              "    <tr>\n",
              "      <th>2</th>\n",
              "      <td>Jatilawang</td>\n",
              "      <td>3221</td>\n",
              "      <td>18360</td>\n",
              "    </tr>\n",
              "    <tr>\n",
              "      <th>3</th>\n",
              "      <td>Rawalo</td>\n",
              "      <td>2775</td>\n",
              "      <td>15818</td>\n",
              "    </tr>\n",
              "    <tr>\n",
              "      <th>4</th>\n",
              "      <td>Kebasen</td>\n",
              "      <td>1836</td>\n",
              "      <td>10447</td>\n",
              "    </tr>\n",
              "  </tbody>\n",
              "</table>\n",
              "</div>"
            ],
            "text/plain": [
              "    Kecamatan  Luas Panen  Produksi\n",
              "0      Lumbir        2090     11913\n",
              "1      Wangon        3036     17305\n",
              "2  Jatilawang        3221     18360\n",
              "3      Rawalo        2775     15818\n",
              "4     Kebasen        1836     10447"
            ]
          },
          "metadata": {},
          "execution_count": 3
        }
      ]
    },
    {
      "cell_type": "code",
      "metadata": {
        "colab": {
          "base_uri": "https://localhost:8080/"
        },
        "id": "3Jn5locyyCWD",
        "outputId": "79e23996-9fff-4143-ea9b-4591516599df"
      },
      "source": [
        "dataset.shape"
      ],
      "execution_count": 4,
      "outputs": [
        {
          "output_type": "execute_result",
          "data": {
            "text/plain": [
              "(27, 3)"
            ]
          },
          "metadata": {},
          "execution_count": 4
        }
      ]
    },
    {
      "cell_type": "code",
      "metadata": {
        "colab": {
          "base_uri": "https://localhost:8080/"
        },
        "id": "AUjL6FamyRz-",
        "outputId": "59c79af1-56d3-44f2-a556-db6a31e2e6e0"
      },
      "source": [
        "dataset.info()"
      ],
      "execution_count": 5,
      "outputs": [
        {
          "output_type": "stream",
          "name": "stdout",
          "text": [
            "<class 'pandas.core.frame.DataFrame'>\n",
            "RangeIndex: 27 entries, 0 to 26\n",
            "Data columns (total 3 columns):\n",
            " #   Column      Non-Null Count  Dtype \n",
            "---  ------      --------------  ----- \n",
            " 0   Kecamatan   27 non-null     object\n",
            " 1   Luas Panen  27 non-null     int64 \n",
            " 2   Produksi    27 non-null     int64 \n",
            "dtypes: int64(2), object(1)\n",
            "memory usage: 776.0+ bytes\n"
          ]
        }
      ]
    },
    {
      "cell_type": "code",
      "metadata": {
        "colab": {
          "base_uri": "https://localhost:8080/",
          "height": 300
        },
        "id": "DWzouQs0yTPr",
        "outputId": "bc60378c-5a4c-4bf4-ccb3-a362484e1a9a"
      },
      "source": [
        "dataset.describe()"
      ],
      "execution_count": 6,
      "outputs": [
        {
          "output_type": "execute_result",
          "data": {
            "text/html": [
              "<div>\n",
              "<style scoped>\n",
              "    .dataframe tbody tr th:only-of-type {\n",
              "        vertical-align: middle;\n",
              "    }\n",
              "\n",
              "    .dataframe tbody tr th {\n",
              "        vertical-align: top;\n",
              "    }\n",
              "\n",
              "    .dataframe thead th {\n",
              "        text-align: right;\n",
              "    }\n",
              "</style>\n",
              "<table border=\"1\" class=\"dataframe\">\n",
              "  <thead>\n",
              "    <tr style=\"text-align: right;\">\n",
              "      <th></th>\n",
              "      <th>Luas Panen</th>\n",
              "      <th>Produksi</th>\n",
              "    </tr>\n",
              "  </thead>\n",
              "  <tbody>\n",
              "    <tr>\n",
              "      <th>count</th>\n",
              "      <td>27.000000</td>\n",
              "      <td>27.000000</td>\n",
              "    </tr>\n",
              "    <tr>\n",
              "      <th>mean</th>\n",
              "      <td>2488.000000</td>\n",
              "      <td>14171.703704</td>\n",
              "    </tr>\n",
              "    <tr>\n",
              "      <th>std</th>\n",
              "      <td>1275.962141</td>\n",
              "      <td>7268.809223</td>\n",
              "    </tr>\n",
              "    <tr>\n",
              "      <th>min</th>\n",
              "      <td>274.000000</td>\n",
              "      <td>1559.000000</td>\n",
              "    </tr>\n",
              "    <tr>\n",
              "      <th>25%</th>\n",
              "      <td>1772.000000</td>\n",
              "      <td>10083.000000</td>\n",
              "    </tr>\n",
              "    <tr>\n",
              "      <th>50%</th>\n",
              "      <td>2708.000000</td>\n",
              "      <td>15436.000000</td>\n",
              "    </tr>\n",
              "    <tr>\n",
              "      <th>75%</th>\n",
              "      <td>3286.500000</td>\n",
              "      <td>18717.000000</td>\n",
              "    </tr>\n",
              "    <tr>\n",
              "      <th>max</th>\n",
              "      <td>4912.000000</td>\n",
              "      <td>27998.000000</td>\n",
              "    </tr>\n",
              "  </tbody>\n",
              "</table>\n",
              "</div>"
            ],
            "text/plain": [
              "        Luas Panen      Produksi\n",
              "count    27.000000     27.000000\n",
              "mean   2488.000000  14171.703704\n",
              "std    1275.962141   7268.809223\n",
              "min     274.000000   1559.000000\n",
              "25%    1772.000000  10083.000000\n",
              "50%    2708.000000  15436.000000\n",
              "75%    3286.500000  18717.000000\n",
              "max    4912.000000  27998.000000"
            ]
          },
          "metadata": {},
          "execution_count": 6
        }
      ]
    },
    {
      "cell_type": "code",
      "metadata": {
        "colab": {
          "base_uri": "https://localhost:8080/",
          "height": 358
        },
        "id": "ptXpfZJ4yX8y",
        "outputId": "c29cca54-2399-4870-c200-d75688cd7047"
      },
      "source": [
        "import seaborn as sns\n",
        "\n",
        "sns.pairplot(dataset, x_vars=['Luas Panen'],\n",
        "y_vars='Produksi', size=4, aspect=1, kind='scatter')\n",
        "plt.show()"
      ],
      "execution_count": 7,
      "outputs": [
        {
          "output_type": "stream",
          "name": "stderr",
          "text": [
            "/usr/local/lib/python3.7/dist-packages/seaborn/axisgrid.py:2076: UserWarning: The `size` parameter has been renamed to `height`; please update your code.\n",
            "  warnings.warn(msg, UserWarning)\n"
          ]
        },
        {
          "output_type": "display_data",
          "data": {
            "image/png": "[encoded data removed]",
            "text/plain": [
              "<Figure size 288x288 with 1 Axes>"
            ]
          },
          "metadata": {
            "needs_background": "light"
          }
        }
      ]
    },
    {
      "cell_type": "code",
      "metadata": {
        "colab": {
          "base_uri": "https://localhost:8080/",
          "height": 276
        },
        "id": "tUofJFWdye3v",
        "outputId": "65c39d63-a53d-4b03-a759-37135d086600"
      },
      "source": [
        " # Visualizing the data using heatmap\n",
        "sns.heatmap(dataset.corr(), cmap=\"YlGnBu\", annot = True)\n",
        "plt.show()"
      ],
      "execution_count": 8,
      "outputs": [
        {
          "output_type": "display_data",
          "data": {
            "image/png": "[encoded data removed]",
            "text/plain": [
              "<Figure size 432x288 with 2 Axes>"
            ]
          },
          "metadata": {
            "needs_background": "light"
          }
        }
      ]
    },
    {
      "cell_type": "markdown",
      "metadata": {
        "id": "qMqxo7Uu3K4m"
      },
      "source": [
        "#Data Training dan Testing"
      ]
    },
    {
      "cell_type": "code",
      "metadata": {
        "colab": {
          "base_uri": "https://localhost:8080/"
        },
        "id": "poIb7j-217KF",
        "outputId": "92ed1df2-3200-4ecc-c08d-a2316e82dd9e"
      },
      "source": [
        "X = dataset.iloc[:, 2:3].values\n",
        "y = dataset.iloc[:, -1].values\n",
        "print(X)\n",
        "print(y)"
      ],
      "execution_count": 9,
      "outputs": [
        {
          "output_type": "stream",
          "name": "stdout",
          "text": [
            "[[11913]\n",
            " [17305]\n",
            " [18360]\n",
            " [15818]\n",
            " [10447]\n",
            " [21523]\n",
            " [17827]\n",
            " [19391]\n",
            " [ 6048]\n",
            " [ 9719]\n",
            " [ 6264]\n",
            " [16547]\n",
            " [11411]\n",
            " [19460]\n",
            " [12061]\n",
            " [26902]\n",
            " [27998]\n",
            " [11824]\n",
            " [15436]\n",
            " [13702]\n",
            " [24430]\n",
            " [18941]\n",
            " [18493]\n",
            " [ 2519]\n",
            " [ 2856]\n",
            " [ 1559]\n",
            " [ 3882]]\n",
            "[11913 17305 18360 15818 10447 21523 17827 19391  6048  9719  6264 16547\n",
            " 11411 19460 12061 26902 27998 11824 15436 13702 24430 18941 18493  2519\n",
            "  2856  1559  3882]\n"
          ]
        }
      ]
    },
    {
      "cell_type": "code",
      "metadata": {
        "id": "xPykFf5r2qiu"
      },
      "source": [
        "from sklearn.model_selection import train_test_split\n",
        "X_train, X_test, y_train, y_test = train_test_split(X, y, test_size = 1/3, random_state = 0)"
      ],
      "execution_count": 10,
      "outputs": []
    },
    {
      "cell_type": "code",
      "metadata": {
        "id": "AUo55Sex20G7",
        "colab": {
          "base_uri": "https://localhost:8080/"
        },
        "outputId": "e24874ad-ca36-43a6-bfd2-c10e808197fc"
      },
      "source": [
        "import statsmodels.api as sm"
      ],
      "execution_count": 11,
      "outputs": [
        {
          "output_type": "stream",
          "name": "stderr",
          "text": [
            "/usr/local/lib/python3.7/dist-packages/statsmodels/tools/_testing.py:19: FutureWarning: pandas.util.testing is deprecated. Use the functions in the public API at pandas.testing instead.\n",
            "  import pandas.util.testing as tm\n"
          ]
        }
      ]
    },
    {
      "cell_type": "code",
      "metadata": {
        "id": "9ZEvdVVR26MN"
      },
      "source": [
        "# Adding a constant to get an intercept\n",
        "X_train_sm = sm.add_constant(X_train)"
      ],
      "execution_count": 12,
      "outputs": []
    },
    {
      "cell_type": "code",
      "metadata": {
        "colab": {
          "base_uri": "https://localhost:8080/"
        },
        "id": "2YIJtNlg267F",
        "outputId": "9090df4e-ad42-4695-e9cc-aeafe60a2d3b"
      },
      "source": [
        "# Fitting the resgression line using 'OLS'\n",
        "lr = sm.OLS(y_train, X_train_sm).fit()\n",
        "# Printing the parameters\n",
        "lr.params"
      ],
      "execution_count": 13,
      "outputs": [
        {
          "output_type": "execute_result",
          "data": {
            "text/plain": [
              "array([1.36424205e-12, 1.00000000e+00])"
            ]
          },
          "metadata": {},
          "execution_count": 13
        }
      ]
    }
  ]
}